{
 "cells": [
  {
   "cell_type": "code",
   "execution_count": 1,
   "metadata": {},
   "outputs": [],
   "source": [
    "import numpy as np"
   ]
  },
  {
   "cell_type": "code",
   "execution_count": 7,
   "metadata": {},
   "outputs": [],
   "source": [
    "f = lambda t,y : y-t**2+1"
   ]
  },
  {
   "cell_type": "code",
   "execution_count": 29,
   "metadata": {},
   "outputs": [],
   "source": [
    "alfa= .5 # Condicion inicial\n",
    "def Euler(a,b,N): # a= tiempo inicial b= tiempo final \n",
    "    h=(b-a)/N\n",
    "    t=a    \n",
    "    \n",
    "    lista = np.zeros((N+1,2))\n",
    "    w=alfa\n",
    "    \n",
    "    lista[0][1]=alfa # w\n",
    "    lista[0][0]=a   # t\n",
    "    \n",
    "    for i in range(1,N+1):\n",
    "        w+=h*f(t,w)\n",
    "        lista[i][1]=w\n",
    "        t=a+i*h\n",
    "        lista[i][0]=t\n",
    "        \n",
    "    return lista # (t,w)\n",
    "        "
   ]
  },
  {
   "cell_type": "code",
   "execution_count": 31,
   "metadata": {
    "scrolled": true
   },
   "outputs": [
    {
     "data": {
      "text/plain": [
       "array([[0.        , 0.5       ],\n",
       "       [0.2       , 0.8       ],\n",
       "       [0.4       , 1.152     ],\n",
       "       [0.6       , 1.5504    ],\n",
       "       [0.8       , 1.98848   ],\n",
       "       [1.        , 2.458176  ],\n",
       "       [1.2       , 2.9498112 ],\n",
       "       [1.4       , 3.45177344],\n",
       "       [1.6       , 3.95012813],\n",
       "       [1.8       , 4.42815375],\n",
       "       [2.        , 4.8657845 ]])"
      ]
     },
     "execution_count": 31,
     "metadata": {},
     "output_type": "execute_result"
    }
   ],
   "source": [
    "Euler(0,2,10)"
   ]
  },
  {
   "cell_type": "code",
   "execution_count": null,
   "metadata": {},
   "outputs": [],
   "source": []
  }
 ],
 "metadata": {
  "kernelspec": {
   "display_name": "Python 3",
   "language": "python",
   "name": "python3"
  },
  "language_info": {
   "codemirror_mode": {
    "name": "ipython",
    "version": 3
   },
   "file_extension": ".py",
   "mimetype": "text/x-python",
   "name": "python",
   "nbconvert_exporter": "python",
   "pygments_lexer": "ipython3",
   "version": "3.5.2"
  }
 },
 "nbformat": 4,
 "nbformat_minor": 2
}

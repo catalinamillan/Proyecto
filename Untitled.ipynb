{
 "cells": [
  {
   "cell_type": "code",
   "execution_count": 1,
   "metadata": {},
   "outputs": [],
   "source": [
    "import numpy as np"
   ]
  },
  {
   "cell_type": "code",
   "execution_count": 1,
   "metadata": {},
   "outputs": [],
   "source": [
    "G=6.674e-11 #Nm^2/kg^2 Constante de gravitacion \n",
    "UA=1.496e11 #m Unidad Astronómica\n",
    "year=3.6526e7 #dias\n",
    "\n",
    "\n",
    "MSol = 1.98e30\n",
    "MTierra = 5.972e24"
   ]
  },
  {
   "cell_type": "code",
   "execution_count": 4,
   "metadata": {},
   "outputs": [],
   "source": [
    "D = lambda x,y,d: ((x-d)**2+y**2)**.5 # d distancia entre m1 y m2\n",
    "F = lambda m1, m2, r: G*m1*m2/r**2"
   ]
  },
  {
   "cell_type": "markdown",
   "metadata": {},
   "source": [
    "Ecuaciones de movimiento \n",
    "\\begin{equation}\n",
    "m\\frac{d^2x}{dt^2} = -\\frac{GM_1}{(x^2+y^2)^{3/2}}x-\\frac{GM_2}{((x-d)^2+y^2)^{3/2}}(x-d) \n",
    "\\end{equation}\n",
    "\n",
    "\\begin{equation}\n",
    "m\\frac{d^2y}{dt^2} = -\\frac{GM_1}{(x^2+y^2)^{3/2}}y-\\frac{GM_2}{((x-d)^2+y^2)^{3/2}}y\n",
    "\\end{equation}\n",
    "\n",
    "Ecuaciones de energía\n",
    "\\begin{equation}\n",
    "E=\\frac{1}{2}m(v_x^2+v_y^2)-\\frac{GmM_1}{\\sqrt{x^2+y^2}}-\\frac{GmM_2}{\\sqrt{(x-d)^2+y^2}}\n",
    "\\end{equation}"
   ]
  },
  {
   "cell_type": "markdown",
   "metadata": {},
   "source": [
    "\\begin{equation}\n",
    "\\vec{\\ddot r} = -\\frac{G(m_1+m_2)}{r^3}\\vec{r}+Gm_3\\{\\frac{\\rho}{\\rho^3}-\\frac{\\vec{r'}}{r'^3}\\}\n",
    "\\end{equation}"
   ]
  },
  {
   "cell_type": "code",
   "execution_count": 1,
   "metadata": {},
   "outputs": [
    {
     "ename": "SyntaxError",
     "evalue": "invalid syntax (<ipython-input-1-951b1abdd7d9>, line 2)",
     "output_type": "error",
     "traceback": [
      "\u001b[0;36m  File \u001b[0;32m\"<ipython-input-1-951b1abdd7d9>\"\u001b[0;36m, line \u001b[0;32m2\u001b[0m\n\u001b[0;31m    x''\u001b[0m\n\u001b[0m      ^\u001b[0m\n\u001b[0;31mSyntaxError\u001b[0m\u001b[0;31m:\u001b[0m invalid syntax\n"
     ]
    }
   ],
   "source": [
    "# Verctores posicion respecto al otrigen de un sistema de coordenadas inercial\n"
   ]
  },
  {
   "cell_type": "code",
   "execution_count": null,
   "metadata": {},
   "outputs": [],
   "source": []
  }
 ],
 "metadata": {
  "kernelspec": {
   "display_name": "Python 3",
   "language": "python",
   "name": "python3"
  },
  "language_info": {
   "codemirror_mode": {
    "name": "ipython",
    "version": 3
   },
   "file_extension": ".py",
   "mimetype": "text/x-python",
   "name": "python",
   "nbconvert_exporter": "python",
   "pygments_lexer": "ipython3",
   "version": "3.5.2"
  }
 },
 "nbformat": 4,
 "nbformat_minor": 2
}

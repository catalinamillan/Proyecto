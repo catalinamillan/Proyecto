{
 "cells": [
  {
   "cell_type": "code",
   "execution_count": 69,
   "metadata": {},
   "outputs": [],
   "source": [
    "import numpy as np"
   ]
  },
  {
   "cell_type": "code",
   "execution_count": 219,
   "metadata": {},
   "outputs": [],
   "source": [
    "f = lambda t,y : y-t**2+1  #dydt=f(t,y)"
   ]
  },
  {
   "cell_type": "code",
   "execution_count": 220,
   "metadata": {},
   "outputs": [],
   "source": [
    "def Euler(f,a,b,C_inicial,N): # a= tiempo inicial b= tiempo final \n",
    "    h=(b-a)/N\n",
    "    t=a    \n",
    "    w=C_inicial\n",
    "\n",
    "    lista = np.zeros((N+1,2))\n",
    "    \n",
    "    for i in range(N+1):\n",
    "        t=a+i*h\n",
    "        lista[i][0]=t \n",
    "        lista[i][1]=w\n",
    "        w+=h*f(t,w)\n",
    "\n",
    "    return lista # (t,w)\n",
    "        "
   ]
  },
  {
   "cell_type": "code",
   "execution_count": 269,
   "metadata": {},
   "outputs": [],
   "source": [
    "def RK_O4(f,a,b,C_inicial,N): #Runge-Kutta de orden 4\n",
    "    h=(b-a)/N\n",
    "    t=a\n",
    "    w=C_inicial\n",
    "    \n",
    "    lista=np.zeros((N+1,2))\n",
    "    \n",
    "    for i in range(N+1):\n",
    "        K1=h*f(t,w)\n",
    "        K2=h*f(t+h*.5,w+K1*.5)\n",
    "        K3=h*f(t+h*.5,w+K2*.5)\n",
    "        K4=h*f(t+h,w+K3)\n",
    "        \n",
    "        lista[i][0], lista[i][1]= t, w\n",
    "        \n",
    "        w+=(K1+2*K2+2*K3+K4)/6\n",
    "        t=a+i*h\n",
    "           \n",
    "    return lista"
   ]
  },
  {
   "cell_type": "code",
   "execution_count": 271,
   "metadata": {},
   "outputs": [],
   "source": [
    "f1 = lambda t,I1,I2: -4*I1+3*I2+6\n",
    "f2 = lambda t,I1,I2: -2.4*I1+1.6*I2+3.6\n",
    "\n",
    "Initial_Condition_list=[0,0]\n",
    "f_list=[f1,f2]\n",
    "\n",
    "def RK_04System(f,a,b,IC_list,N): #u′j = fj(t, u1, u2, . . . , um) , [a,b] equally spaced interval\n",
    "    h=(b-a)/N\n",
    "    t=a\n",
    "    m=len(IC_list)\n",
    "    k_list=np.zeros((4,m))\n",
    "    w=np.zeros(m)\n",
    "    t_w_list=np.zeros((N+1,m+1))\n",
    "    t_list=[]\n",
    "    \n",
    "    for j in range(m):\n",
    "        w[j]=IC_list[j]\n",
    "        \n",
    "    for i in range(N+1):\n",
    "        for j in range(m):\n",
    "            k_list[0][j]=h*f[j](t,w[0],w[1])\n",
    "            k_list[1][j]=h*f[j](t+h*.5,w[0]+.5*k_list[0][0],w[1]+.5*k_list[0][1])\n",
    "            k_list[2][j]=h*f[j](t+.5*h,w[0]+.5*k_list[1][0],w[1]+.5*k_list[1][1])\n",
    "            k_list[3][j]=h*f[j](t+h,w[0]+k_list[2][0],w[1]+k_list[2][1])\n",
    "   \n",
    "            t_w_list[i][j+1]=w[j]\n",
    "            t_w_list[i][0]=t\n",
    "\n",
    "            w[j]+=(k_list[0][j]+2*k_list[1][j]+2*k_list[2][j]+k_list[3][j])/6\n",
    "            t=a+i*h\n",
    "            print(k_list)\n",
    "   # return t_w_list"
   ]
  },
  {
   "cell_type": "code",
   "execution_count": 272,
   "metadata": {},
   "outputs": [
    {
     "name": "stdout",
     "output_type": "stream",
     "text": [
      "[[0.6    0.    ]\n",
      " [0.48   0.    ]\n",
      " [0.504  0.    ]\n",
      " [0.3984 0.    ]]\n",
      "[[0.6        0.241344  ]\n",
      " [0.48       0.18865152]\n",
      " [0.504      0.19883612]\n",
      " [0.3984     0.15219778]]\n",
      "[[0.46066585 0.241344  ]\n",
      " [0.40473428 0.18865152]\n",
      " [0.40801672 0.19883612]\n",
      " [0.35711    0.15219778]]\n",
      "[[0.46066585 0.17477334]\n",
      " [0.40473428 0.13347531]\n",
      " [0.40801672 0.13688325]\n",
      " [0.35711    0.09875065]]\n",
      "[[0.33849272 0.17477334]\n",
      " [0.29701017 0.13347531]\n",
      " [0.29911198 0.13688325]\n",
      " [0.2599129  0.09875065]]\n",
      "[[0.33849272 0.12486044]\n",
      " [0.29701017 0.09423015]\n",
      " [0.29911198 0.09675763]\n",
      " [0.2599129  0.06855479]]\n",
      "[[0.24788559 0.12486044]\n",
      " [0.21703754 0.09423015]\n",
      " [0.21861261 0.09675763]\n",
      " [0.18946784 0.06855479]]\n",
      "[[0.24788559 0.08785804]\n",
      " [0.21703754 0.06514042]\n",
      " [0.21861261 0.06702477]\n",
      " [0.18946784 0.04611498]]\n",
      "[[0.18055718 0.08785804]\n",
      " [0.15762445 0.06514042]\n",
      " [0.15880335 0.06702477]\n",
      " [0.13714327 0.04611498]]\n",
      "[[0.18055718 0.06045723]\n",
      " [0.15762445 0.04362694]\n",
      " [0.15880335 0.04503245]\n",
      " [0.13714327 0.02954961]]\n",
      "[[0.13055306 0.06045723]\n",
      " [0.11351103 0.04362694]\n",
      " [0.11439489 0.04503245]\n",
      " [0.09830484 0.02954961]]\n",
      "[[0.13055306 0.04019912]\n",
      " [0.11351103 0.02774868]\n",
      " [0.11439489 0.02879769]\n",
      " [0.09830484 0.01735197]]\n"
     ]
    }
   ],
   "source": [
    "RK_04System(f_list,0,.5,Initial_Condition_list,5)"
   ]
  },
  {
   "cell_type": "code",
   "execution_count": null,
   "metadata": {},
   "outputs": [],
   "source": []
  },
  {
   "cell_type": "code",
   "execution_count": null,
   "metadata": {},
   "outputs": [],
   "source": []
  }
 ],
 "metadata": {
  "kernelspec": {
   "display_name": "Python 3",
   "language": "python",
   "name": "python3"
  },
  "language_info": {
   "codemirror_mode": {
    "name": "ipython",
    "version": 3
   },
   "file_extension": ".py",
   "mimetype": "text/x-python",
   "name": "python",
   "nbconvert_exporter": "python",
   "pygments_lexer": "ipython3",
   "version": "3.5.2"
  }
 },
 "nbformat": 4,
 "nbformat_minor": 2
}

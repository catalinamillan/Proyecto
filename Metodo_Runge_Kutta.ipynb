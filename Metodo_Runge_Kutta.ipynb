{
 "cells": [
  {
   "cell_type": "code",
   "execution_count": 18,
   "metadata": {},
   "outputs": [],
   "source": [
    "import numpy as np"
   ]
  },
  {
   "cell_type": "code",
   "execution_count": 154,
   "metadata": {},
   "outputs": [],
   "source": [
    "def RungeKuttaFehlberg(f,a,b,al,TOL,hmax,hmin):#Runge Kutta Method for Systems of Differential Equation\n",
    "    h=hmax\n",
    "    t=a\n",
    "    w=al\n",
    "    FLAG=1\n",
    "    #while(FLAG ==1):\n",
    "    for i in range(9):\n",
    "        K1=h*f(t,w)\n",
    "        K2=h*f(t+1/4.*h,w+1/4*K1)\n",
    "        K3=h*f(t+3/8*h,w+3/32.*K1+9/32.*K2)\n",
    "        K4=h*f(t+12/13.*h,w+1932/2197.*K1-7200/2197.*K2+7296/2197.*K3)\n",
    "        K5=h*f(t+h,w+439/216.*K1-8*K2+3680/513.*K3-845/4104.*K4)\n",
    "        K6=h*f(t+1/2.*h,w-8/27.*K1+2*K2-3544/2565.*K3+1859/4104.*K4-11./40*K5)\n",
    "\n",
    "        w1=w+16/135.*K1+6656/12825*K3+28561/56430.*K4-9/50*K5+2/55.*K6\n",
    "        w2=w+25/216.*K1+1408/2565.*K3+2197/4104.*K4-1/5*K5\n",
    "\n",
    "        R=1/h*abs(1/360.*K1-128/4275.*K3-2197/75240.*K4+1/50.*K5+2/55.*K6)\n",
    "        #R=abs(-w1+w2)\n",
    "\n",
    "        if (R<=TOL):\n",
    "            t+=h\n",
    "            w+=25/216.*K1*1408/2565.*K3+2197/4104.*K4-1/5.*K5\n",
    "\n",
    "        d=.84*(TOL/R)**.25\n",
    "        if(d<=.1):\n",
    "            h=.1*h\n",
    "        elif(d>=4):\n",
    "            h=4*h\n",
    "        else:\n",
    "            h=d*h\n",
    "\n",
    "        if(h>hmax):\n",
    "            h=hmax\n",
    "\n",
    "        if(t>=b):\n",
    "            FLAG=0\n",
    "        elif((t+h)>b):\n",
    "            h=b-t\n",
    "        elif(h<hmin):\n",
    "            FLAG=0\n",
    "            print(\"Minimum h exceeded \\n Procedure completed unsuccessfully\")\n",
    "        print(t,h,R)#abs(w-w1),w2,abs(w-w2))\n",
    "   # return(t,d,R,d)"
   ]
  },
  {
   "cell_type": "code",
   "execution_count": 155,
   "metadata": {},
   "outputs": [],
   "source": [
    "f = lambda t,y: y-t**2+1"
   ]
  },
  {
   "cell_type": "code",
   "execution_count": 156,
   "metadata": {},
   "outputs": [
    {
     "name": "stdout",
     "output_type": "stream",
     "text": [
      "0.25 0.23655220228476856 6.211109650454405e-06\n",
      "0.4865522022847686 0.25 3.5416268195675503e-06\n",
      "0.7365522022847686 0.25 2.1499935126054193e-06\n",
      "0.9865522022847686 0.25 8.232867651711273e-07\n",
      "1.2365522022847686 0.25 4.494205879460034e-06\n",
      "1.4865522022847686 0.2159594268016236 8.941049814699398e-06\n",
      "1.7025116290863922 0.19155580182292095 8.043120349178738e-06\n",
      "1.894067430909313 0.10593256909068693 6.904353234422145e-06\n",
      "2.0 0.16483297094132895 8.492954913544994e-07\n"
     ]
    }
   ],
   "source": [
    "RungeKuttaFehlberg(f,0,2,.5,1e-5,.25,.01)"
   ]
  },
  {
   "cell_type": "code",
   "execution_count": 157,
   "metadata": {},
   "outputs": [],
   "source": [
    "y = lambda t: (t+1)**2-.5*np.exp(t)"
   ]
  },
  {
   "cell_type": "code",
   "execution_count": 48,
   "metadata": {},
   "outputs": [
    {
     "data": {
      "text/plain": [
       "0.9204872916561293"
      ]
     },
     "execution_count": 48,
     "metadata": {},
     "output_type": "execute_result"
    }
   ],
   "source": [
    "y(.25)"
   ]
  },
  {
   "cell_type": "code",
   "execution_count": null,
   "metadata": {},
   "outputs": [],
   "source": []
  }
 ],
 "metadata": {
  "kernelspec": {
   "display_name": "Python 3",
   "language": "python",
   "name": "python3"
  },
  "language_info": {
   "codemirror_mode": {
    "name": "ipython",
    "version": 3
   },
   "file_extension": ".py",
   "mimetype": "text/x-python",
   "name": "python",
   "nbconvert_exporter": "python",
   "pygments_lexer": "ipython3",
   "version": "3.5.2"
  }
 },
 "nbformat": 4,
 "nbformat_minor": 2
}
